{
 "cells": [
  {
   "cell_type": "code",
   "execution_count": 1,
   "metadata": {},
   "outputs": [],
   "source": [
    "#Import modules\n",
    "from sqm import env\n",
    "from sqm import ast\n",
    "from sqm import data"
   ]
  },
  {
   "cell_type": "code",
   "execution_count": 2,
   "metadata": {},
   "outputs": [],
   "source": [
    "#Create logger\n",
    "logger = env.Logger(blabla=False)"
   ]
  },
  {
   "cell_type": "code",
   "execution_count": 3,
   "metadata": {},
   "outputs": [],
   "source": [
    "#create a connection to SQM device over com4\n",
    "dh = data.Handle(logger, \"com4\")"
   ]
  },
  {
   "cell_type": "code",
   "execution_count": 4,
   "metadata": {},
   "outputs": [],
   "source": [
    "#Create Site object\n",
    "coord = ast.Coordinates(logger)\n",
    "longitude = coord.create_angle(\"39.7833 degree\")\n",
    "latitude = coord.create_angle(\"41.2333 degree\")\n",
    "elevation = 3170\n",
    "dag = ast.Site(logger, latitude, longitude, elevation, name=\"DAG\")"
   ]
  },
  {
   "cell_type": "code",
   "execution_count": 5,
   "metadata": {},
   "outputs": [],
   "source": [
    "#Create Time object\n",
    "tim = ast.Time(logger)\n",
    "tim_calc = ast.TimeCalc(logger, dag)"
   ]
  },
  {
   "cell_type": "code",
   "execution_count": 6,
   "metadata": {},
   "outputs": [
    {
     "name": "stdout",
     "output_type": "stream",
     "text": [
      "161.95444354681638 deg {'JD': 2458946.8772023325, 'Mag': 11.519999999999998, 'STDV': 0.0, 'CMag': -2.151020862604702, 'CSTDV': 4.440892098500626e-16, 'Temperature': 24.400000000000002, 'TemperatureSTDV': 0.0, 'N': 10, 'Valid': 10}\n"
     ]
    }
   ],
   "source": [
    "now = tim.now(utc=True)\n",
    "#For sake of operation a \"not\" was added to if statement.\n",
    "#This code will run on DAYTIME.\n",
    "#Remove the \"not\" in order to operate at nighttime\n",
    "if not tim_calc.is_night(now):\n",
    "    #Read 10 samples and get average of all values\n",
    "    data = dh.mean_read(10)\n",
    "    moon = ast.Moon(logger, now)\n",
    "    moon_alt_az = dag.altaz(moon, now)\n",
    "    sqm_alt_az = coord.alt_az(\"30 degree\", \"180 degree\")\n",
    "    dist = coord.distance(moon_alt_az, sqm_alt_az)\n",
    "    print(dist, data)"
   ]
  },
  {
   "cell_type": "code",
   "execution_count": null,
   "metadata": {},
   "outputs": [],
   "source": []
  }
 ],
 "metadata": {
  "kernelspec": {
   "display_name": "Python 3",
   "language": "python",
   "name": "python3"
  },
  "language_info": {
   "codemirror_mode": {
    "name": "ipython",
    "version": 3
   },
   "file_extension": ".py",
   "mimetype": "text/x-python",
   "name": "python",
   "nbconvert_exporter": "python",
   "pygments_lexer": "ipython3",
   "version": "3.7.6"
  }
 },
 "nbformat": 4,
 "nbformat_minor": 4
}
